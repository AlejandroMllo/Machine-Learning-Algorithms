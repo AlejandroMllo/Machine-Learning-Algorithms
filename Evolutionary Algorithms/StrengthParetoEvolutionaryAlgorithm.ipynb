{
  "nbformat": 4,
  "nbformat_minor": 0,
  "metadata": {
    "colab": {
      "name": "StrengthParetoEvolutionaryAlgorithm.ipynb",
      "version": "0.3.2",
      "provenance": [],
      "collapsed_sections": [],
      "include_colab_link": true
    },
    "kernelspec": {
      "name": "python3",
      "display_name": "Python 3"
    }
  },
  "cells": [
    {
      "cell_type": "markdown",
      "metadata": {
        "id": "view-in-github",
        "colab_type": "text"
      },
      "source": [
        "<a href=\"https://colab.research.google.com/github/AlejandroMllo/Machine-Learning-Algorithms/blob/master/Evolutionary%20Algorithms/StrengthParetoEvolutionaryAlgorithm.ipynb\" target=\"_parent\"><img src=\"https://colab.research.google.com/assets/colab-badge.svg\" alt=\"Open In Colab\"/></a>"
      ]
    },
    {
      "cell_type": "markdown",
      "metadata": {
        "id": "Zf-DW0JgOdfN",
        "colab_type": "text"
      },
      "source": [
        "# Strength Pareto Evolutionary Algorithm (SPEA)"
      ]
    },
    {
      "cell_type": "markdown",
      "metadata": {
        "id": "F21i4_bsSGln",
        "colab_type": "text"
      },
      "source": [
        "## SPEA *(Zitler & Thiele, 1998)*\n",
        "\n",
        "\n",
        "## SPEA2 *(Zitler et al., 2001)*"
      ]
    },
    {
      "cell_type": "markdown",
      "metadata": {
        "id": "DfRWnzeSO0rK",
        "colab_type": "text"
      },
      "source": [
        "### Example using SPEA2\n",
        "\n",
        "Solution of the multiobjective optimization problem SCH, problem 1 described in (Deb et al., 2002), given by:\n",
        "\n",
        "$$\\\\ \\min   f_1(x) + f_2(x) $$\n",
        "\n",
        "$where$\n",
        "      $$  f_1(x) = \\Sigma_1^n (x_i^2) $$\n",
        "      $$ f_2(x) = \\Sigma_1^n (x_i - 2)^2 $$\n",
        "     \n",
        "$subject\\ to$\n",
        "    $$ -10 \\leq x_i \\leq 10, n = 1\\\\$$\n",
        "\n",
        "$whose\\ optimal\\ value\\ is:\\ x \\in [0, 2].$\n",
        "\n",
        "using SPEA2."
      ]
    },
    {
      "cell_type": "code",
      "metadata": {
        "id": "2c08PLrrOm08",
        "colab_type": "code",
        "colab": {}
      },
      "source": [
        "# Required Libraries\n",
        "import numpy as np\n",
        "\n",
        "from random import random, randint"
      ],
      "execution_count": 0,
      "outputs": []
    },
    {
      "cell_type": "code",
      "metadata": {
        "id": "ReCJv-iVSveE",
        "colab_type": "code",
        "colab": {}
      },
      "source": [
        "# Objective Functions\n",
        "\n",
        "def f1(x):\n",
        "  \n",
        "  x = x**2\n",
        "  return np.sum(x)\n",
        "\n",
        "\n",
        "def f2(x):\n",
        "  \n",
        "  x = (x - 2)**2\n",
        "  return np.sum(x)"
      ],
      "execution_count": 0,
      "outputs": []
    },
    {
      "cell_type": "code",
      "metadata": {
        "id": "LMiv2xG6TtMd",
        "colab_type": "code",
        "colab": {}
      },
      "source": [
        "# Helper Functions\n",
        "\n",
        "def decode(bitstring, search_space, bits_per_param):\n",
        "  \"\"\"\n",
        "  _genotype_ to _fenotype_ conversion.\n",
        "  \"\"\"\n",
        "  \n",
        "  vector = np.array([])\n",
        "  \n",
        "  for index, bound in enumerate(search_space):\n",
        "    \n",
        "    off, sumation = index*bits_per_param, 0.0\n",
        "    # param = list(reversed(bitstring[off : off + bits_per_param]))\n",
        "    param = reversed(bitstring[off : off + bits_per_param])\n",
        "    \n",
        "    for j in range(len(param)):\n",
        "      sumation += float((1.0 if param[j] == '1' else 0.0) * (2.0 ** j))\n",
        "      \n",
        "    minimum, maximum = bound\n",
        "    \n",
        "    new_element = \\\n",
        "      minimum + ( (maximum - minimum)/((2.0**bits_per_param) - 1.0) ) * sumation\n",
        "    vector = np.append(vector, new_element)\n",
        "    \n",
        "  return vector\n",
        "\n",
        "\n",
        "def random_bitstring(num_bits):\n",
        "  \n",
        "  bits = ['1' if random() < 0.5 else '0' for _ in range(num_bits)]\n",
        "  return ''.join(bits)\n",
        "\n",
        "\n",
        "def euclidean_distance(v1, v2):\n",
        "  return np.linalg.norm(v1 - v2, 2)"
      ],
      "execution_count": 0,
      "outputs": []
    },
    {
      "cell_type": "code",
      "metadata": {
        "id": "kACrkOr4ZXy9",
        "colab_type": "code",
        "colab": {}
      },
      "source": [
        "# Variation Operations\n",
        "\n",
        "def point_mutation(bitstring, rate=None):\n",
        "  \n",
        "  if rate is None:\n",
        "    rate = 1.0 / len(bitstring)\n",
        "    \n",
        "  child = ''\n",
        "  \n",
        "  for i in range(len(bitstring)):\n",
        "    bit = bitstring[i]\n",
        "    alternate_bit = 1 if bit == '1' else 0\n",
        "    child += alternate_bit if random() < rate else bit\n",
        "    \n",
        "  return child\n",
        "\n",
        "\n",
        "def binary_tournament(pop):\n",
        "  \n",
        "  pop_len = len(pop)\n",
        "  i, j = randint(0, pop_len - 1), randint(0, pop_len - 1)\n",
        "  while i == j:  # Used to guarantee i and j are different.\n",
        "    j = randint(0, pop_len - 1)\n",
        "    \n",
        "  return pop[i] if pop[i].fitness() < pop[j].fitness() else pop[j]\n",
        "\n",
        "\n",
        "def crossover(parent1, parent2, rate):\n",
        "  \n",
        "  if random() >= rate:\n",
        "    return '' + parent1\n",
        "  \n",
        "  child = ''\n",
        "  for i in range(len(parent1)):\n",
        "    \n",
        "    child += parent1[i] if random() < 0.5 else parent2[i]\n",
        "    \n",
        "  return child"
      ],
      "execution_count": 0,
      "outputs": []
    },
    {
      "cell_type": "code",
      "metadata": {
        "id": "sqN6w_wXfVM5",
        "colab_type": "code",
        "colab": {}
      },
      "source": [
        "# Reproduction\n",
        "\n",
        "def reproduce(selected, pop_size, p_cross):\n",
        "  \n",
        "  children = np.array([])\n",
        "  for index, ind1 in enumerate(selected):\n",
        "    ind2 = selected[index + 1] if index % 2 == 0 else selected[index - 1]\n",
        "    if index == ( len(selected) - 1 ):\n",
        "      ind2 = selected[0]\n",
        "      \n",
        "    child = Individual()\n",
        "    child.set_bitstring( crossover(ind1.bitstring(), ind2.bitstring(), p_cross) )\n",
        "    child.set_bitstring( point_mutation(child.bitstring()) )\n",
        "    \n",
        "    children = np.append(children, child)\n",
        "    \n",
        "    if len(children) > pop_size:\n",
        "      break\n",
        "      \n",
        "  return children"
      ],
      "execution_count": 0,
      "outputs": []
    },
    {
      "cell_type": "code",
      "metadata": {
        "id": "sCQoCMkVi4Ch",
        "colab_type": "code",
        "colab": {}
      },
      "source": [
        "# Individuals Evaluation\n",
        "\n",
        "def calculate_objective(pop, search_space, bits_per_param):\n",
        "  \n",
        "  for ind in pop:\n",
        "    \n",
        "    ind.set_vector( decode(ind.bitstring(), search_space, bits_per_param) )\n",
        "    objectives = [\n",
        "        f1(ind.vector())\n",
        "      , f2(ind.vector())\n",
        "    ]\n",
        "    ind.set_objectives(objectives)\n",
        "    \n",
        "\n",
        "def is_dominant(ind1, ind2):\n",
        "  \n",
        "  ind1_objectives = ind1.objectives()\n",
        "  ind2_objectives = ind2.objectives()\n",
        "  \n",
        "  for i in range(len(ind1_objectives)):\n",
        "    if ind1_objectives[i] > ind2_objectives[i]:\n",
        "      return False\n",
        "    \n",
        "  return True\n",
        "\n",
        "\n",
        "def weighted_sum(ind):\n",
        "  \n",
        "  ind_objectives = ind.objectives()\n",
        "  return np.sum(ind_objectives)\n",
        "\n",
        "\n",
        "def calculate_dominated(pop):\n",
        "  \n",
        "  for ind in pop:\n",
        "    dominated_set = [\n",
        "        dominated_ind for dominated_ind in ind.dominated_set()\n",
        "                      if is_dominant(ind, dominated_ind) and ind != dominated_ind\n",
        "    ]\n",
        "    ind.set_dominated_set(dominated_set)\n",
        "    \n",
        "\n",
        "def calculate_raw_fitness(individual, pop):\n",
        "  \n",
        "  raw_individuals = [\n",
        "      len(ind.dominated_set()) for ind in pop if is_dominant(ind, individual)\n",
        "  ]    \n",
        "      \n",
        "  return sum(raw_individual)\n",
        "\n",
        "\n",
        "def calculate_density(individual, pop):\n",
        "  \n",
        "  for ind in pop:\n",
        "    ind.set_distance(\n",
        "        euclidean_distance(individual.objectives(), ind.objectives())\n",
        "    )\n",
        "  \n",
        "  # Sorted by increasing distance.\n",
        "  sorted_dist = np.sort(\n",
        "    [ind.distance() for ind in pop]\n",
        "  )\n",
        "  \n",
        "  k = np.sqrt(len(pop))\n",
        "  distance_sought = 1.0 / (sorted_dist[k] + 2.0)\n",
        "  \n",
        "  return distance_sought\n",
        "\n",
        "\n",
        "def calculate_fitness(pop, archive, search_space, bits_per_param):\n",
        "  \n",
        "  calculate_objectives(pop, search_space, bits_per_param)\n",
        "  \n",
        "  union = np.append(pop, archive)\n",
        "  \n",
        "  calculate_dominated(union)\n",
        "  \n",
        "  for ind in union:\n",
        "    ind.set_raw_fitness( calculate_raw_fitness(ind, union) )\n",
        "    ind.set_density( calculate_density(ind, union) )"
      ],
      "execution_count": 0,
      "outputs": []
    },
    {
      "cell_type": "code",
      "metadata": {
        "id": "-rnApEjufZK1",
        "colab_type": "code",
        "colab": {}
      },
      "source": [
        "# Environmental Selection\n",
        "\n"
      ],
      "execution_count": 0,
      "outputs": []
    },
    {
      "cell_type": "code",
      "metadata": {
        "id": "DkS15lK9dldP",
        "colab_type": "code",
        "colab": {}
      },
      "source": [
        "class Individual:\n",
        "  \n",
        "  def __init__():\n",
        "        \n",
        "    self.__bitstring = None\n",
        "    self.__vector = None\n",
        "    \n",
        "    self.__objectives = None\n",
        "    \n",
        "    self.__dominated_set = None\n",
        "    self.__distance = None\n",
        "    \n",
        "    self.__raw_fitness = None\n",
        "    self.__density = None\n",
        "    \n",
        "  # Getters\n",
        "  def bitstring():\n",
        "    return self.__bitstring\n",
        "  \n",
        "  def vector():\n",
        "    return  self.__vector\n",
        "  \n",
        "  def objectives():\n",
        "    return self.__objectives\n",
        "  \n",
        "  def dominated_set():\n",
        "    return self.__dominated_set\n",
        "  \n",
        "  def distance():\n",
        "    return self.__distance\n",
        "  \n",
        "  def raw_fitness():\n",
        "    return self.__raw_fitness\n",
        "  \n",
        "  def density():\n",
        "    return self.__density\n",
        "  \n",
        "  def fitness():\n",
        "    return self.density() + self.raw_fitness()\n",
        "  \n",
        "  # Setters\n",
        "  def set_bitstring(bitstring):\n",
        "    self.__bitstring = bitstring\n",
        "    \n",
        "  def set_vector(vector):\n",
        "    self.__vector = vector\n",
        "    \n",
        "  def set_objectives(objectives):\n",
        "    self.__objectives = objectives\n",
        "    \n",
        "  def set_dominated_set(dom_set):\n",
        "    self.__dominated_set = dom_set\n",
        "    \n",
        "  def set_distance(dist):\n",
        "    self.__distance = dist\n",
        "  \n",
        "  def set_raw_fitness(raw_fitness):\n",
        "    self.__raw_fitness = raw_fitness\n",
        "    \n",
        "  def set_density(density):\n",
        "    self.__density = density\n",
        "  "
      ],
      "execution_count": 0,
      "outputs": []
    },
    {
      "cell_type": "markdown",
      "metadata": {
        "id": "cTYInGK8P1Zj",
        "colab_type": "text"
      },
      "source": [
        "## Referencias\n",
        "\n",
        "- (Zitzler & Thiele, 1998) Zitzler, E., & Thiele, L. (1998). An evolutionary algorithm for\n",
        "multiobjective optimization: The strength pareto approach. TIK-report, 43.\n",
        "- (Zitler et al., 2001) Zitzler, E., Laumanns, M., & Thiele, L. (2001). SPEA2: Improving the strength Pareto evolutionary algorithm. TIK-report, 103.\n",
        "- (Deb et al., 2018)   K. Deb and A. Pratap and S. Agarwal and T. Meyarivan, \"A Fast and Elitist Multiobjective Genetic Algorithm: NSGA–II\", IEEE Transactions on Evolutionary Computation, 2002. "
      ]
    }
  ]
}